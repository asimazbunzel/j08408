{
 "cells": [
  {
   "cell_type": "markdown",
   "id": "d88c1673",
   "metadata": {},
   "source": [
    "# Binary evolutions for the progenitor of J08408\n",
    "\n",
    "Study of grid of binaries with a NS orbiting around a massive star. The aim of this notebook is to present a clear picture on the parameters which are related to J08408"
   ]
  },
  {
   "cell_type": "markdown",
   "id": "985bb802",
   "metadata": {},
   "source": [
    "## Configuration"
   ]
  },
  {
   "cell_type": "code",
   "execution_count": null,
   "id": "a448f999",
   "metadata": {},
   "outputs": [],
   "source": [
    "%load_ext autoreload\n",
    "%autoreload 2\n",
    "\n",
    "import sys\n",
    "import warnings\n",
    "warnings.filterwarnings(\"ignore\")\n",
    "\n",
    "import numpy as np\n",
    "import matplotlib.gridspec as gridspec\n",
    "import matplotlib.pyplot as plt\n",
    "import matplotlib.colors as colors\n",
    "from scipy.optimize import bisect\n",
    "import pandas as pd\n",
    "\n",
    "# some constants\n",
    "one_third = 1e0/3e0\n",
    "pi = 3.1415926535897932384626433832795028841971693993751e0\n",
    "standard_cgrav = 6.67428e-8\n",
    "Msun = 1.9892e33\n",
    "Rsun = 6.9598e10\n",
    "Hubble_time = 13.461701658024014e0  # Gyr\n",
    "clight = 2.99792458e10\n",
    "secyer = 3.1558149984e7\n",
    "\n",
    "# ---------------------------------------------\n",
    "# Set some global options\n",
    "np.seterr(all='ignore')\n",
    "\n",
    "# ---------------------------------------------\n",
    "# Load data\n",
    "root = '..'\n",
    "run_location = f'{root}/data/natal-kicks'\n",
    "mesa_run_location = f'{root}/data'\n",
    "config_location = f'{root}/config'\n",
    "\n",
    "idgrid, Pgrid, agrid, egrid, probgrid = np.loadtxt(f'{run_location}/target_orbits.data', skiprows=9, unpack=True)\n",
    "\n",
    "# load summary of mesa simulations\n",
    "summary_of_progenitors = pd.read_csv(f'{mesa_run_location}/summary_of_star_plus_ns.data', delim_whitespace=True, skiprows=3)\n",
    "additional_info_on_progenitors = pd.read_csv(f'{mesa_run_location}/additional_info_of_star_plus_ns.data', delim_whitespace=True)\n",
    "detail_progenitors = pd.read_csv(f'{mesa_run_location}/details_of_progenitors_of_j08408.data', delim_whitespace=True)\n",
    "\n",
    "mpl_style = f'{config_location}/style.mpl'\n",
    "paper_style = f'{config_location}/paper-style.mpl'"
   ]
  },
  {
   "cell_type": "markdown",
   "id": "7f76fa48",
   "metadata": {},
   "source": [
    "## Parameters at core collapse"
   ]
  },
  {
   "cell_type": "code",
   "execution_count": null,
   "id": "943b30c8",
   "metadata": {},
   "outputs": [],
   "source": [
    "m1precc = 8.3525627823294126E+000\n",
    "m2precc = 3.2637938645139933E+001\n",
    "aprecc = 7.3604203503769526E+001\n",
    "pprecc = 1.1424984631360623E+001\n",
    "r1precc = 2.4346822488037647E+000\n",
    "r2precc = 1.8891193348004055E+001\n",
    "remnantmass = 1.6601196874643882E+000"
   ]
  },
  {
   "cell_type": "markdown",
   "id": "ab384c25",
   "metadata": {},
   "source": [
    "## Kepler law & some auxiliary functions"
   ]
  },
  {
   "cell_type": "code",
   "execution_count": null,
   "id": "e878b039",
   "metadata": {},
   "outputs": [],
   "source": [
    "def a_to_P(separation, m1, m2):\n",
    "    \"\"\"Kepler law to go from separation to orbital period\n",
    "    \n",
    "    Parameters\n",
    "    ----------\n",
    "    a: binary separation in [Rsun]\n",
    "    m1: mass of primary star in [Msun]\n",
    "    m2: mass of secondary star in [Msun]\n",
    "\n",
    "    Returns\n",
    "    -------\n",
    "    period: orbital period in [days]\n",
    "    \"\"\"\n",
    "    separation = separation * Rsun  # in cm\n",
    "    m1 = m1 * Msun\n",
    "    m2 = m2 * Msun   # in g\n",
    "\n",
    "    period = 2 * np.pi * np.sqrt(separation**3/(standard_cgrav*(m1+m2)))/(86400.0)\n",
    "    return period\n",
    "\n",
    "def P_to_a(period, m1, m2):\n",
    "    \"\"\"\n",
    "    Binary separation from known period\n",
    "\n",
    "    Parameters\n",
    "    ----------\n",
    "    P: binary period in [days]\n",
    "    M1: mass of primary star in [Msun]\n",
    "    M2: mass of secondary star in [Msun]\n",
    "\n",
    "    Returns\n",
    "    -------\n",
    "    a: binary separation in [Rsun]\n",
    "    \"\"\"\n",
    "    period = period * 24e0 * 3600e0  # in sec\n",
    "    m1 = m1 * Msun; m2 = m2 * Msun   # in g\n",
    "    tmp = standard_cgrav * (m1 + m2) * (period/(2*np.pi)) ** 2\n",
    "    separation = np.power(tmp, one_third)\n",
    "    return separation/Rsun\n",
    "\n",
    "def rlobe(m1, m2, separation):\n",
    "    \"\"\"Roche lobe approximation for a star using Eggleton (1983)\n",
    "    formula\n",
    "\n",
    "    Parameters\n",
    "    ----------\n",
    "    m1: mass of primary star in [Msun]\n",
    "    m2: mass of secondary star in [Msun]\n",
    "    separation: binary separation in [Rsun]\n",
    "\n",
    "    Returns\n",
    "    -------\n",
    "    RL: Roche lobe of primary star in [Rsun]\n",
    "    \"\"\"\n",
    "    one_third = 1e0/3e0\n",
    "    q = np.power(m1/m2, one_third)\n",
    "    RL = 0.49e0 * q**2 / (0.6 * q**2 + np.log(1+q))\n",
    "    RL = separation * RL\n",
    "\n",
    "    return RL"
   ]
  },
  {
   "cell_type": "markdown",
   "id": "42042851",
   "metadata": {},
   "source": [
    "---"
   ]
  },
  {
   "cell_type": "markdown",
   "id": "c43be9c3",
   "metadata": {},
   "source": [
    "### Basic summary"
   ]
  },
  {
   "cell_type": "code",
   "execution_count": null,
   "id": "9b00fe34",
   "metadata": {},
   "outputs": [],
   "source": [
    "codes = list(set(summary_of_progenitors['termination_code_pm']))\n",
    "for code in codes:\n",
    "    mask = summary_of_progenitors['termination_code_pm'] == code\n",
    "    print('{}:'.format(code), 'n-simulations =', len(summary_of_progenitors[mask]))"
   ]
  },
  {
   "cell_type": "code",
   "execution_count": null,
   "id": "33dd234c",
   "metadata": {},
   "outputs": [],
   "source": []
  },
  {
   "cell_type": "code",
   "execution_count": null,
   "id": "e47d2fcb",
   "metadata": {},
   "outputs": [],
   "source": [
    "plt.style.use('../config/style.mpl')\n",
    "fig, ax = plt.subplots(figsize=(2.7,2.7))\n",
    "ax.set_xscale('log');\n",
    "\n",
    "# axis labels\n",
    "ax.set_xlabel('period [days]')\n",
    "ax.set_ylabel('eccentricity');\n",
    "\n",
    "# axis limits\n",
    "ax.set_xlim(3, 2e3)\n",
    "ax.set_ylim(0, 1);\n",
    "\n",
    "# MESA runs\n",
    "end_colors = ['firebrick', 'steelblue'] #, 'firebrick']\n",
    "codes_dict = {'ce_merge': 'CE merge',\n",
    "              'high_atm_mdot': 'high $\\\\dot{M}_{\\\\rm RLOF, atm}$'}\n",
    "for k, code in enumerate(codes_dict.keys()):\n",
    "    mask = summary_of_progenitors['termination_code_pm'] == code\n",
    "    seps_cc = summary_of_progenitors['porb_pm'][mask]\n",
    "    eccs_cc = summary_of_progenitors['e_pm'][mask]\n",
    "    ax.scatter(seps_cc, eccs_cc, s=2, marker='o',\n",
    "        c=end_colors[k], label='{}'.format(code))\n",
    "\n",
    "# text on conditions at CC\n",
    "ax.annotate(\n",
    "    'Conditions at CC\\n{} = {:.2f} {}\\n{} = {:.2f} {} {} {:.2f} {}\\n{} = {:.2f} {}'.format(\n",
    "    r'$a$', aprecc, r'R$_\\odot$', r'$m_1$', m1precc, r'M$_\\odot$', r'$\\rightarrow$',\n",
    "    remnantmass, r'M$_\\odot$', r'$m_2$', m2precc, r'M$_\\odot$'),\n",
    "    fontsize=8,\n",
    "    xy=(0.48,0.30), xycoords='figure fraction');\n",
    "\n",
    "# legends\n",
    "f = lambda c, s: plt.plot([],[], ls='none', marker='o', color=c, markersize=s)[0]\n",
    "handles = [f(color,4) for color in end_colors]\n",
    "legends = ['{}'.format(codes_dict[event]) for event in codes_dict.keys()]\n",
    "fig.legend(handles, legends, loc='center', ncol=3, bbox_to_anchor=(0.51,0.91));"
   ]
  },
  {
   "cell_type": "markdown",
   "id": "91555451",
   "metadata": {},
   "source": [
    "## Eccentricity & orbital periods"
   ]
  },
  {
   "cell_type": "code",
   "execution_count": null,
   "id": "5e9cca2c",
   "metadata": {},
   "outputs": [],
   "source": [
    "plt.style.use('../config/style.mpl')\n",
    "fig, ax = plt.subplots(figsize=(2.7,2.7))\n",
    "ax.set_xscale('log');\n",
    "\n",
    "# axis labels\n",
    "latex = '{\\\\rm orb}'\n",
    "ax.set_xlabel(f'$P_{latex}$ [days]')\n",
    "ax.set_ylabel('eccentricity');\n",
    "\n",
    "# axis limits\n",
    "ax.set_xlim(3, 2e3)\n",
    "ax.set_ylim(0, 1);\n",
    "\n",
    "# colormap settings\n",
    "bounds = np.arange(0,5,1)\n",
    "norm = colors.BoundaryNorm(boundaries=bounds, ncolors=256)\n",
    "cm = plt.get_cmap('RdYlBu')\n",
    "\n",
    "mask = additional_info_on_progenitors['MT_case'] == 'none'\n",
    "x = additional_info_on_progenitors['porb'][mask]\n",
    "y = additional_info_on_progenitors['e'][mask]\n",
    "z = additional_info_on_progenitors['min_chi2'][mask]\n",
    "ax.scatter(x, y, s=1, c=z, cmap=cm, norm=norm, alpha=0.9, marker='o')\n",
    "\n",
    "mask = additional_info_on_progenitors['MT_case'] != 'none'\n",
    "x = additional_info_on_progenitors['porb'][mask]\n",
    "y = additional_info_on_progenitors['e'][mask]\n",
    "z = additional_info_on_progenitors['min_chi2'][mask]\n",
    "cb = ax.scatter(x, y, s=3, c=z, cmap=cm, norm=norm, alpha=0.9, marker='o');\n",
    "\n",
    "cbar = fig.colorbar(cb, ax=ax, label='$\\\\min(\\\\chi^2)$', extend='max')\n",
    "cbar.minorticks_off();"
   ]
  },
  {
   "cell_type": "code",
   "execution_count": null,
   "id": "a8717b13",
   "metadata": {},
   "outputs": [],
   "source": [
    "additional_info_on_progenitors.keys()"
   ]
  },
  {
   "cell_type": "code",
   "execution_count": null,
   "id": "05e916ab",
   "metadata": {},
   "outputs": [],
   "source": [
    "detail_progenitors.keys()"
   ]
  },
  {
   "cell_type": "markdown",
   "id": "6d541984",
   "metadata": {},
   "source": [
    "## X-ray binary phase timescale"
   ]
  },
  {
   "cell_type": "code",
   "execution_count": null,
   "id": "56853b1e",
   "metadata": {},
   "outputs": [],
   "source": [
    "plt.style.use('../config/style.mpl')\n",
    "fig, ax = plt.subplots(figsize=(2.7,2.7))\n",
    "ax.set_xscale('log');\n",
    "\n",
    "# axis labels\n",
    "latex = '{\\\\rm orb}'\n",
    "ax.set_xlabel(f'$P_{latex}$ [days]')\n",
    "ax.set_ylabel('eccentricity');\n",
    "\n",
    "# axis limits\n",
    "ax.set_xlim(3, 2e3)\n",
    "ax.set_ylim(0.49, 0.89);\n",
    "\n",
    "# colormap settings\n",
    "# bounds = np.arange(0,6e5,1000)\n",
    "# norm = colors.BoundaryNorm(boundaries=bounds, ncolors=256)\n",
    "# cm = plt.get_cmap('RdYlBu')\n",
    "\n",
    "mask = additional_info_on_progenitors['t_xrb'] < 100\n",
    "x = additional_info_on_progenitors['porb'][mask]\n",
    "y = additional_info_on_progenitors['e'][mask]\n",
    "z = additional_info_on_progenitors['min_chi2'][mask]\n",
    "ax.scatter(x, y, s=0.1, c='gray', norm=norm, alpha=0.9, marker='o')\n",
    "\n",
    "mask = additional_info_on_progenitors['t_xrb'] > 100\n",
    "x = additional_info_on_progenitors['porb'][mask]\n",
    "y = additional_info_on_progenitors['e'][mask]\n",
    "z = additional_info_on_progenitors['t_xrb'][mask]\n",
    "cb = ax.scatter(x, y, s=1, c=z, vmin=100, vmax=2000)# , cmap=cm, norm=norm, alpha=0.9, marker='o');\n",
    "\n",
    "cbar = fig.colorbar(cb, ax=ax, label='$t_{\\\\rm XRB} [yrs]$', extend='max')\n",
    "cbar.minorticks_off();"
   ]
  }
 ],
 "metadata": {
  "kernelspec": {
   "display_name": "Python 3",
   "language": "python",
   "name": "python3"
  },
  "language_info": {
   "codemirror_mode": {
    "name": "ipython",
    "version": 3
   },
   "file_extension": ".py",
   "mimetype": "text/x-python",
   "name": "python",
   "nbconvert_exporter": "python",
   "pygments_lexer": "ipython3",
   "version": "3.9.7"
  }
 },
 "nbformat": 4,
 "nbformat_minor": 5
}
